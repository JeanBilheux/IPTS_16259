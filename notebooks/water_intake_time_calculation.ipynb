{
 "cells": [
  {
   "cell_type": "markdown",
   "metadata": {},
   "source": [
    "## 1. Prepare logbook "
   ]
  },
  {
   "cell_type": "code",
   "execution_count": 1,
   "metadata": {
    "collapsed": false
   },
   "outputs": [],
   "source": [
    "from ipywidgets import widgets\n",
    "from IPython.display import display\n",
    "\n",
    "from pprint import pprint\n",
    "from ipywidgets.widgets import interact"
   ]
  },
  {
   "cell_type": "code",
   "execution_count": 2,
   "metadata": {
    "collapsed": true
   },
   "outputs": [],
   "source": [
    "import os, os.path\n",
    "import datetime"
   ]
  },
  {
   "cell_type": "code",
   "execution_count": 3,
   "metadata": {
    "collapsed": false
   },
   "outputs": [],
   "source": [
    "%matplotlib inline\n",
    "import matplotlib.pyplot as plt\n",
    "import matplotlib.patches as patches\n",
    "import matplotlib.gridspec as gridspec\n",
    "\n",
    "import matplotlib as mpl"
   ]
  },
  {
   "cell_type": "code",
   "execution_count": 4,
   "metadata": {
    "collapsed": false
   },
   "outputs": [],
   "source": [
    "font = {'family' : 'monospace',\n",
    "       'size' : '14'}\n",
    "mpl.rc('font', **font)"
   ]
  },
  {
   "cell_type": "code",
   "execution_count": 45,
   "metadata": {
    "collapsed": false
   },
   "outputs": [],
   "source": [
    "from PIL import Image\n",
    "import numpy as np\n",
    "import pandas as pd\n",
    "import re"
   ]
  },
  {
   "cell_type": "markdown",
   "metadata": {},
   "source": [
    "## 2. Select Counts vs Time files"
   ]
  },
  {
   "cell_type": "code",
   "execution_count": 6,
   "metadata": {
    "collapsed": true
   },
   "outputs": [],
   "source": [
    "default_dir = '/Volumes/My Book Thunderbolt Duo/IPTS/IPTS-16259/Day_4_CO-4_Uptake/time_stamps/'"
   ]
  },
  {
   "cell_type": "code",
   "execution_count": 7,
   "metadata": {
    "collapsed": true
   },
   "outputs": [],
   "source": [
    "from PyQt4 import QtGui\n",
    "%gui qt"
   ]
  },
  {
   "cell_type": "code",
   "execution_count": 8,
   "metadata": {
    "collapsed": true
   },
   "outputs": [],
   "source": [
    "try:\n",
    "    from PySide import QtCore, QtGui\n",
    "except ImportError:\n",
    "    from PyQt4 import QtCore, QtGui\n",
    "\n",
    "def gui_fname(dir=None):\n",
    "    \"\"\"Select a directory\n",
    "    \"\"\"\n",
    "    if dir is None: dir ='./'\n",
    "    dir_name = QtGui.QFileDialog.getOpenFileNames(None, \"Select txt files ...\",\n",
    "                                                  dir,\n",
    "                                                 filter = \"ASCII (*.txt);;All (*.*)\")\n",
    "                                                 \n",
    "    return dir_name"
   ]
  },
  {
   "cell_type": "code",
   "execution_count": 11,
   "metadata": {
    "collapsed": true
   },
   "outputs": [],
   "source": [
    "%gui qt\n",
    "list_files = gui_fname(dir = default_dir)\n",
    "#pprint(list_files)"
   ]
  },
  {
   "cell_type": "markdown",
   "metadata": {},
   "source": [
    "## 3. Load the data and metadata "
   ]
  },
  {
   "cell_type": "code",
   "execution_count": 128,
   "metadata": {
    "collapsed": false
   },
   "outputs": [],
   "source": [
    "def retrieve_metadata(file_name):\n",
    "    \"\"\"\n",
    "    return a dictionary of the metadata (plus number of comment lines)\n",
    "    \"\"\"\n",
    "    with open(file_name) as f:\n",
    "        _metadata = {}\n",
    "        _nbr_comment_line = 0\n",
    "        for line in f:\n",
    "            li = line.strip()\n",
    "            if li.startswith(\"#\"):\n",
    "                _nbr_comment_line += 1\n",
    "                m = re.match(r\"^#(?P<tag_name>[,\\(\\)\\s\\w]*):(?P<tag_value>.*)\", li)\n",
    "                if m is None:\n",
    "                    continue\n",
    "                _metadata[m.group('tag_name')] = m.group('tag_value')\n",
    "        _metadata['nbr_comment_line'] = _nbr_comment_line\n",
    "        return _metadata"
   ]
  },
  {
   "cell_type": "code",
   "execution_count": 129,
   "metadata": {
    "collapsed": true
   },
   "outputs": [],
   "source": [
    "def retrieve_data(file_name, nbr_comment_line=0, col_names = None):\n",
    "    file_0 = pd.read_csv(file_name, \n",
    "                         skiprows = nbr_comment_line, \n",
    "                         header = None,\n",
    "                         names = col_names)\n",
    "    return file_0"
   ]
  },
  {
   "cell_type": "code",
   "execution_count": 132,
   "metadata": {
    "collapsed": false
   },
   "outputs": [],
   "source": [
    "_metadata = retrieve_metadata(list_files[0])\n",
    "_col_names = _metadata['Label'].split(',')\n",
    "_data = retrieve_data(list_files[0], \n",
    "                      nbr_comment_line=_metadata['nbr_comment_line'],\n",
    "                      col_names = _col_names)\n"
   ]
  },
  {
   "cell_type": "code",
   "execution_count": 136,
   "metadata": {
    "collapsed": false
   },
   "outputs": [],
   "source": [
    "w = widgets.IntProgress()\n",
    "w.max = len(list_files)\n",
    "display(w)\n",
    "index = 0\n",
    "\n",
    "files_data = {}\n",
    "files_metadata = {}\n",
    "for index, file in enumerate(list_files):\n",
    "    _metadata = retrieve_metadata(file)\n",
    "    files_metadata[file] = _metadata\n",
    "    _col_names = _metadata['Label'].split(',')\n",
    "    _data = retrieve_data(file, \n",
    "                          nbr_comment_line = _metadata['nbr_comment_line'],\n",
    "                          col_names = _col_names)\n",
    "    files_data[file] = _data\n",
    "\n",
    "    index += 1\n",
    "    w.value = index"
   ]
  },
  {
   "cell_type": "code",
   "execution_count": null,
   "metadata": {
    "collapsed": true
   },
   "outputs": [],
   "source": []
  }
 ],
 "metadata": {
  "kernelspec": {
   "display_name": "Python 3",
   "language": "python",
   "name": "python3"
  },
  "language_info": {
   "codemirror_mode": {
    "name": "ipython",
    "version": 3
   },
   "file_extension": ".py",
   "mimetype": "text/x-python",
   "name": "python",
   "nbconvert_exporter": "python",
   "pygments_lexer": "ipython3",
   "version": "3.5.2"
  }
 },
 "nbformat": 4,
 "nbformat_minor": 0
}
